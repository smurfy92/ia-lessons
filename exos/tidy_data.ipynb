{
 "cells": [
  {
   "cell_type": "markdown",
   "id": "d1717609-00e5-4fc2-bdc4-ccb759e04333",
   "metadata": {},
   "source": [
    "### Exercise 1: Reshaping Data\n"
   ]
  },
  {
   "cell_type": "markdown",
   "id": "b540a2cc-7e61-494a-88c7-8637a1993d87",
   "metadata": {},
   "source": [
    "Take the following untidy dataset and convert it into a tidy format:\r\n",
    "\r\n",
    "Untidy Data:"
   ]
  },
  {
   "cell_type": "code",
   "execution_count": null,
   "id": "21c4bdfe-af5b-49ed-ad3f-b9bad9f96da4",
   "metadata": {},
   "outputs": [],
   "source": [
    "data = {\n",
    "    'Date': ['2023-01-01', '2023-01-02', '2023-01-01'],\n",
    "    'Metric_1': [10, 15, 12],\n",
    "    'Metric_2': [25, 30, 28]\n",
    "}"
   ]
  },
  {
   "cell_type": "markdown",
   "id": "89e5a844-b277-4879-8bb0-3431522ab6d0",
   "metadata": {},
   "source": [
    "tidy data output should look like :\n",
    "\n",
    "```\n",
    "Date       | Metric | Value\r\n",
    "----------------------------\r\n",
    "2023-01-01 | 1      | 10\r\n",
    "2023-01-02 | 1      | 15\r\n",
    "2023-01-01 | 2      | 25\r\n",
    "2023-01-02 | 2      | 30\r\n",
    "2023-01-01 | 3      | 12\r\n",
    "2023-01-02 | 3      | 28\r\n",
    "\n",
    "```"
   ]
  },
  {
   "cell_type": "code",
   "execution_count": null,
   "id": "ee63b723-8f6c-4e05-9368-26e3ff2b3124",
   "metadata": {},
   "outputs": [],
   "source": [
    "# "
   ]
  },
  {
   "cell_type": "markdown",
   "id": "665857dd-9415-4208-b9de-5b5b4c8b6faa",
   "metadata": {},
   "source": [
    "### Exercise 2: Pivoting Data\n",
    "Given the following tidy dataset:\r\n",
    "\r\n"
   ]
  },
  {
   "cell_type": "code",
   "execution_count": null,
   "id": "e93976e0-9234-43e4-a0a3-a2bd126b0e6e",
   "metadata": {},
   "outputs": [],
   "source": [
    "data = {\n",
    "    'Date': ['2023-01-01', '2023-01-02', '2023-01-01'],\n",
    "    'Metric': ['Metric_1', 'Metric_1', 'Metric_2'],\n",
    "    'Value': [10, 15, 25]\n",
    "}\n",
    "\n",
    "df = pd.DataFrame(data)\n"
   ]
  },
  {
   "cell_type": "markdown",
   "id": "33564674-1bef-4ef2-9dd0-fdd5e6c327da",
   "metadata": {},
   "source": [
    "Pivot the DataFrame to have 'Date' as the index, 'Metric' as columns, and 'Value' as the values.\r\n",
    "\r\n"
   ]
  },
  {
   "cell_type": "code",
   "execution_count": null,
   "id": "7145f358-2e6a-4a79-ad3c-f5a0ce3ca4d2",
   "metadata": {},
   "outputs": [],
   "source": []
  },
  {
   "cell_type": "markdown",
   "id": "5d911d01-b62a-4e4a-8bea-ea6b00baf412",
   "metadata": {},
   "source": [
    "### Exercise 3: Combining Multiple Variables\n"
   ]
  },
  {
   "cell_type": "markdown",
   "id": "27b7a89c-7109-440d-9f68-2db50699d6e5",
   "metadata": {},
   "source": [
    "Suppose you have two separate tidy datasets representing sales and quantity for products:\n",
    "```\r\n",
    "\n",
    "```"
   ]
  },
  {
   "cell_type": "markdown",
   "id": "261a7656-6147-4ea9-adca-3852bc7b23fa",
   "metadata": {},
   "source": [
    "\n",
    "Dataset 1 (Sales):\n",
    "\n",
    "```\n",
    " Date       | Product | Sales\n",
    " ------------------------------\n",
    " 2023-01-01 | A       | 100\n",
    " 2023-01-02 | B       | 150\n",
    "```"
   ]
  },
  {
   "cell_type": "markdown",
   "id": "3d648a78-fc87-49ea-9f84-5c96905410da",
   "metadata": {},
   "source": [
    "\n",
    "Dataset 2 (Quantity):\n",
    "\n",
    "\n",
    "```\n",
    "Date       | Product | Quantity\n",
    "--------------------------------\n",
    "2023-01-01 | A       | 5\n",
    "2023-01-02 | B       | 3\n",
    "\n",
    "```"
   ]
  },
  {
   "cell_type": "markdown",
   "id": "9862ad47-1b42-465a-968b-3b482011b7c1",
   "metadata": {},
   "source": [
    "Create two dataframes : \n",
    " - Sales\n",
    " - Quantity"
   ]
  },
  {
   "cell_type": "code",
   "execution_count": null,
   "id": "0f885207-c5ee-4b77-9e81-5e701a352225",
   "metadata": {},
   "outputs": [],
   "source": [
    "sales = pd.DataFrame(...)"
   ]
  },
  {
   "cell_type": "code",
   "execution_count": null,
   "id": "ea05805b-cd36-44b1-a362-285f5b6874ee",
   "metadata": {},
   "outputs": [],
   "source": [
    "quantity = pd.DataFrame(...)"
   ]
  },
  {
   "cell_type": "markdown",
   "id": "c96f4f8c-c93a-4a70-b160-f27926c31ad0",
   "metadata": {},
   "source": [
    "Merge or join these datasets to create a single dataset that includes both sales and quantity information.\n",
    "\n"
   ]
  },
  {
   "cell_type": "code",
   "execution_count": null,
   "id": "0c9111fe-0e41-4635-9978-f4d9aaf82d16",
   "metadata": {},
   "outputs": [],
   "source": [
    "# help(pd.merge)"
   ]
  },
  {
   "cell_type": "code",
   "execution_count": null,
   "id": "8aa27a73-9848-411f-bcab-849045434061",
   "metadata": {},
   "outputs": [],
   "source": [
    "# or\n",
    "# help(sales.merge)"
   ]
  }
 ],
 "metadata": {
  "kernelspec": {
   "display_name": "Python 3 (ipykernel)",
   "language": "python",
   "name": "python3"
  },
  "language_info": {
   "codemirror_mode": {
    "name": "ipython",
    "version": 3
   },
   "file_extension": ".py",
   "mimetype": "text/x-python",
   "name": "python",
   "nbconvert_exporter": "python",
   "pygments_lexer": "ipython3",
   "version": "3.10.10"
  }
 },
 "nbformat": 4,
 "nbformat_minor": 5
}
